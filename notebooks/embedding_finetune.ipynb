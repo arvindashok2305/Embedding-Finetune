{
 "cells": [
  {
   "cell_type": "markdown",
   "id": "b286c1b7",
   "metadata": {},
   "source": [
    "## 📦 Step 1: Setup & Installation\n",
    "Install required dependencies."
   ]
  },
  {
   "cell_type": "code",
   "execution_count": null,
   "id": "a57c7d7b",
   "metadata": {},
   "outputs": [],
   "source": [
    "# >>> Step 1: Install dependencies\n",
    "!pip install -q sentence-transformers datasets pyarrow huggingface_hub"
   ]
  },
  {
   "cell_type": "markdown",
   "id": "091e2702",
   "metadata": {},
   "source": [
    "## 🔧 Step 2: Import Libraries & Load Pretrained Model"
   ]
  },
  {
   "cell_type": "code",
   "execution_count": null,
   "id": "cbdbbf58",
   "metadata": {},
   "outputs": [],
   "source": [
    "# >>> Step 2: Import libraries & load pretrained model\n",
    "import torch\n",
    "from datasets import load_dataset\n",
    "from sentence_transformers import SentenceTransformer, InputExample, losses, util\n",
    "from torch.utils.data import DataLoader\n",
    "\n",
    "model_name = \"BAAI/bge-base-en-v1.5\"\n",
    "model = SentenceTransformer(model_name)\n",
    "print(\"Model loaded:\", model_name)"
   ]
  },
  {
   "cell_type": "markdown",
   "id": "81030fdc",
   "metadata": {},
   "source": [
    "## 📂 Step 3: Load & Preprocess Dataset"
   ]
  },
  {
   "cell_type": "code",
   "execution_count": null,
   "id": "48584646",
   "metadata": {},
   "outputs": [],
   "source": [
    "# >>> Step 3: Load and preprocess dataset\n",
    "dataset = load_dataset(\"parquet\", data_files={\"train\": \"train-00000-of-00001.parquet\"}, split=\"train\")\n",
    "\n",
    "if \"query\" in dataset.column_names and \"question\" not in dataset.column_names:\n",
    "    dataset = dataset.rename_column(\"query\", \"question\")\n",
    "\n",
    "instruction = \"Represent this sentence for searching relevant passages: \"\n",
    "train_examples = [InputExample(texts=[instruction + r[\"question\"], r[\"answer\"]]) for r in dataset]\n",
    "\n",
    "print(\"Dataset loaded:\", len(train_examples), \"examples\")"
   ]
  },
  {
   "cell_type": "markdown",
   "id": "c7412872",
   "metadata": {},
   "source": [
    "## ⚙️ Step 4: Setup Training"
   ]
  },
  {
   "cell_type": "code",
   "execution_count": null,
   "id": "a91be5e7",
   "metadata": {},
   "outputs": [],
   "source": [
    "# >>> Step 4: Setup training components\n",
    "batch_size = 32\n",
    "train_dataloader = DataLoader(train_examples, shuffle=True, batch_size=batch_size)\n",
    "train_loss = losses.MultipleNegativesRankingLoss(model)"
   ]
  },
  {
   "cell_type": "markdown",
   "id": "ed43ac3f",
   "metadata": {},
   "source": [
    "## 🏋️ Step 5: Fine-Tune the Model"
   ]
  },
  {
   "cell_type": "code",
   "execution_count": null,
   "id": "c5aee0a2",
   "metadata": {},
   "outputs": [],
   "source": [
    "# >>> Step 5: Fine-tune the model\n",
    "num_epochs = 1\n",
    "output_path = \"../saved_models/fine-tuned-bge-qna\"\n",
    "warmup_steps = int(len(train_dataloader) * num_epochs * 0.1)\n",
    "\n",
    "model.fit(\n",
    "    train_objectives=[(train_dataloader, train_loss)],\n",
    "    epochs=num_epochs,\n",
    "    warmup_steps=warmup_steps,\n",
    "    output_path=output_path,\n",
    "    show_progress_bar=True\n",
    ")"
   ]
  },
  {
   "cell_type": "markdown",
   "id": "65e37092",
   "metadata": {},
   "source": [
    "## 📊 Step 6: Evaluate the Fine-Tuned Model"
   ]
  },
  {
   "cell_type": "code",
   "execution_count": null,
   "id": "92773c01",
   "metadata": {},
   "outputs": [],
   "source": [
    "# >>> Step 6: Evaluate the fine-tuned model\n",
    "fine_tuned_model = SentenceTransformer(output_path)\n",
    "\n",
    "test_query = \"What is the SI unit for the electric field?\"\n",
    "passages = [\n",
    "    \"The units of the electric field in the SI system are newtons per coulomb (N/C), or volts per meter (V/m).\",\n",
    "    \"The primary colors of light are red, green, and blue.\",\n",
    "    \"A CPU is the electronic circuitry that executes instructions comprising a computer program.\"\n",
    "]\n",
    "\n",
    "instructed_query = instruction + test_query\n",
    "query_embedding = fine_tuned_model.encode(instructed_query)\n",
    "passage_embeddings = fine_tuned_model.encode(passages)\n",
    "\n",
    "similarities = util.cos_sim(query_embedding, passage_embeddings)\n",
    "\n",
    "for score, passage in zip(similarities[0], passages):\n",
    "    print(f\"Similarity: {score:.4f} | Passage: {passage}\")"
   ]
  },
  {
   "cell_type": "markdown",
   "id": "1b566088",
   "metadata": {},
   "source": [
    "## ☁️ Step 7: Push Model to Hugging Face Hub"
   ]
  },
  {
   "cell_type": "code",
   "execution_count": null,
   "id": "7c893a21",
   "metadata": {},
   "outputs": [],
   "source": [
    "# >>> Step 7: Push model to Hugging Face Hub\n",
    "from huggingface_hub import notebook_login\n",
    "notebook_login()\n",
    "\n",
    "hf_username = \"your-hf-username\"\n",
    "model_id = f\"{hf_username}/bge-base-my-qna-model\"\n",
    "\n",
    "fine_tuned_model.save_to_hub(model_id, commit_message=\"Fine-tuned BGE-base on Q&A dataset\")"
   ]
  },
  {
   "cell_type": "markdown",
   "id": "ba6e1faa",
   "metadata": {},
   "source": [
    "## 🔍 Step 8: Inference from Hugging Face Hub"
   ]
  },
  {
   "cell_type": "code",
   "execution_count": null,
   "id": "4cd210da",
   "metadata": {},
   "outputs": [],
   "source": [
    "# >>> Step 8: Inference from Hugging Face Hub\n",
    "hub_model = SentenceTransformer(model_id)\n",
    "\n",
    "query = instruction + \"What is the powerhouse of the cell?\"\n",
    "passages = [\n",
    "    \"Mitochondria are organelles often called the powerhouse of the cell.\",\n",
    "    \"The cell wall provides structural support to plant cells.\",\n",
    "    \"DNA contains genetic instructions.\"\n",
    "]\n",
    "\n",
    "query_emb = hub_model.encode(query)\n",
    "pass_emb = hub_model.encode(passages)\n",
    "similarities = util.cos_sim(query_emb, pass_emb)\n",
    "\n",
    "for score, passage in zip(similarities[0], passages):\n",
    "    print(f\"Similarity: {score:.4f} | Passage: {passage}\")"
   ]
  }
 ],
 "metadata": {
  "language_info": {
   "name": "python"
  }
 },
 "nbformat": 4,
 "nbformat_minor": 5
}
